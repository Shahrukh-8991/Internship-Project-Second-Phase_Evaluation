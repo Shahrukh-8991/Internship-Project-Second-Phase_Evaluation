{
 "cells": [
  {
   "cell_type": "code",
   "execution_count": 1,
   "id": "49f27d56",
   "metadata": {},
   "outputs": [],
   "source": [
    "import pandas as pd\n",
    "\n",
    "# Load data from CSV files\n",
    "df_usa = pd.read_csv('C:\\\\Users\\\\shahr\\\\Downloads\\\\database_USA.csv')\n",
    "df_india = pd.read_csv('C:\\\\Users\\\\shahr\\\\Downloads\\\\database_IND (1).csv')\n",
    "df_aus = pd.read_csv('C:\\\\Users\\\\shahr\\\\Downloads\\\\database_AUS.csv')\n"
   ]
  },
  {
   "cell_type": "code",
   "execution_count": 2,
   "id": "130a7138",
   "metadata": {},
   "outputs": [],
   "source": [
    "# Combine datasets\n",
    "df = pd.concat([df_usa, df_india, df_aus], ignore_index=True)\n"
   ]
  },
  {
   "cell_type": "code",
   "execution_count": 3,
   "id": "1f8b24b1",
   "metadata": {},
   "outputs": [
    {
     "name": "stdout",
     "output_type": "stream",
     "text": [
      "  country              country_long                            name  \\\n",
      "0     USA  United States of America  10 Briggs Solar NG  LLC (East)   \n",
      "1     USA  United States of America      100 Brook Hill Drive Solar   \n",
      "2     USA  United States of America      1001 Ebenezer Church Solar   \n",
      "3     USA  United States of America             1008 Matthews Solar   \n",
      "4     USA  United States of America               1009 Yadkin Solar   \n",
      "\n",
      "    gppd_idnr  capacity_mw  latitude  longitude primary_fuel other_fuel1  \\\n",
      "0  USA0062781          0.0   41.6327   -71.4963          NaN         NaN   \n",
      "1  USA0063292          2.0   41.0930   -73.9828        Solar         NaN   \n",
      "2  USA0063444          0.0   36.2838   -80.8434          NaN         NaN   \n",
      "3  USA0063447          0.0   36.2167   -80.5525          NaN         NaN   \n",
      "4  USA0063445          0.0   36.1475   -80.6561          NaN         NaN   \n",
      "\n",
      "  other_fuel2  ... year_of_capacity_data  generation_gwh_2013  \\\n",
      "0         NaN  ...                2019.0                  NaN   \n",
      "1         NaN  ...                2019.0                  NaN   \n",
      "2         NaN  ...                2019.0                  NaN   \n",
      "3         NaN  ...                2019.0                  NaN   \n",
      "4         NaN  ...                2019.0                  NaN   \n",
      "\n",
      "  generation_gwh_2014 generation_gwh_2015 generation_gwh_2016  \\\n",
      "0                 NaN                 NaN                 NaN   \n",
      "1                 NaN                 NaN                 NaN   \n",
      "2                 NaN                 NaN                 NaN   \n",
      "3                 NaN                 NaN                 NaN   \n",
      "4                 NaN                 NaN                 NaN   \n",
      "\n",
      "  generation_gwh_2017  generation_gwh_2018  generation_gwh_2019  \\\n",
      "0                 NaN                  NaN                  NaN   \n",
      "1                 NaN                  NaN                2.467   \n",
      "2                 NaN                  NaN                  NaN   \n",
      "3                 NaN                  NaN                  NaN   \n",
      "4                 NaN                  NaN                  NaN   \n",
      "\n",
      "                   generation_data_source  estimated_generation_gwh  \n",
      "0                                     NaN                       NaN  \n",
      "1  U.S. Energy Information Administration                       NaN  \n",
      "2                                     NaN                       NaN  \n",
      "3                                     NaN                       NaN  \n",
      "4                                     NaN                       NaN  \n",
      "\n",
      "[5 rows x 27 columns]\n"
     ]
    }
   ],
   "source": [
    "# Display the first few rows of the combined DataFrame\n",
    "print(df.head())\n"
   ]
  },
  {
   "cell_type": "code",
   "execution_count": 4,
   "id": "01793f84",
   "metadata": {},
   "outputs": [
    {
     "name": "stdout",
     "output_type": "stream",
     "text": [
      "country                         0\n",
      "country_long                    0\n",
      "name                            0\n",
      "gppd_idnr                       0\n",
      "capacity_mw                     6\n",
      "latitude                       78\n",
      "longitude                      78\n",
      "primary_fuel                 2004\n",
      "other_fuel1                 11670\n",
      "other_fuel2                 13028\n",
      "other_fuel3                 13206\n",
      "commissioning_year           2644\n",
      "owner                         593\n",
      "source                          0\n",
      "url                             0\n",
      "geolocation_source             23\n",
      "wepp_id                     13298\n",
      "year_of_capacity_data         438\n",
      "generation_gwh_2013          6128\n",
      "generation_gwh_2014          5764\n",
      "generation_gwh_2015          5305\n",
      "generation_gwh_2016          4597\n",
      "generation_gwh_2017          4006\n",
      "generation_gwh_2018          3440\n",
      "generation_gwh_2019          3520\n",
      "generation_data_source       2463\n",
      "estimated_generation_gwh    13298\n",
      "dtype: int64\n",
      "country                      object\n",
      "country_long                 object\n",
      "name                         object\n",
      "gppd_idnr                    object\n",
      "capacity_mw                 float64\n",
      "latitude                    float64\n",
      "longitude                   float64\n",
      "primary_fuel                 object\n",
      "other_fuel1                  object\n",
      "other_fuel2                  object\n",
      "other_fuel3                  object\n",
      "commissioning_year          float64\n",
      "owner                        object\n",
      "source                       object\n",
      "url                          object\n",
      "geolocation_source           object\n",
      "wepp_id                     float64\n",
      "year_of_capacity_data       float64\n",
      "generation_gwh_2013         float64\n",
      "generation_gwh_2014         float64\n",
      "generation_gwh_2015         float64\n",
      "generation_gwh_2016         float64\n",
      "generation_gwh_2017         float64\n",
      "generation_gwh_2018         float64\n",
      "generation_gwh_2019          object\n",
      "generation_data_source       object\n",
      "estimated_generation_gwh    float64\n",
      "dtype: object\n",
      "        capacity_mw      latitude     longitude  commissioning_year  wepp_id  \\\n",
      "count  13292.000000  13220.000000  13220.000000        10654.000000      0.0   \n",
      "mean     117.738717     35.053213    -73.794217         1998.184904      NaN   \n",
      "std      347.169038     15.444195     62.868834           24.017781      NaN   \n",
      "min        0.000000    -42.888300   -171.712400         1896.000000      NaN   \n",
      "25%        1.500000     33.901700   -104.659875         1988.000000      NaN   \n",
      "50%        5.500000     38.389750    -87.346000         2008.000000      NaN   \n",
      "75%       52.725000     42.175125    -75.475925         2015.000000      NaN   \n",
      "max     6809.000000    425.246100    153.434100         2020.000000      NaN   \n",
      "\n",
      "       year_of_capacity_data  generation_gwh_2013  generation_gwh_2014  \\\n",
      "count                12860.0          7170.000000          7534.000000   \n",
      "mean                  2019.0           563.383222           635.739731   \n",
      "std                      0.0          2030.523760          2193.172655   \n",
      "min                   2019.0          -947.600000          -989.619000   \n",
      "25%                   2019.0             1.653075             2.018000   \n",
      "50%                   2019.0            21.384500            22.241000   \n",
      "75%                   2019.0           185.326498           217.069500   \n",
      "max                   2019.0         31431.080000         32320.917000   \n",
      "\n",
      "       generation_gwh_2015  generation_gwh_2016  generation_gwh_2017  \\\n",
      "count          7993.000000          8701.000000          9292.000000   \n",
      "mean            616.801877           561.784508           532.472482   \n",
      "std            2148.167470          2050.411295          2001.411908   \n",
      "min            -864.428000          -768.620000          -934.944000   \n",
      "25%               2.140000             2.108000             2.063750   \n",
      "50%              19.504000            15.410278            13.433861   \n",
      "75%             200.279000           173.348004           157.889688   \n",
      "max           32525.595000         32377.477000         35116.000000   \n",
      "\n",
      "       generation_gwh_2018  estimated_generation_gwh  \n",
      "count          9858.000000                       0.0  \n",
      "mean            513.679016                       NaN  \n",
      "std            1963.485305                       NaN  \n",
      "min            -982.622000                       NaN  \n",
      "25%               2.141250                       NaN  \n",
      "50%              12.308500                       NaN  \n",
      "75%             149.141249                       NaN  \n",
      "max           35136.000000                       NaN  \n"
     ]
    }
   ],
   "source": [
    "# Check for missing values\n",
    "print(df.isnull().sum())\n",
    "\n",
    "# Get data types of columns\n",
    "print(df.dtypes)\n",
    "\n",
    "# Statistical summary\n",
    "print(df.describe())\n"
   ]
  },
  {
   "cell_type": "code",
   "execution_count": 5,
   "id": "9c9962fe",
   "metadata": {},
   "outputs": [],
   "source": [
    "# Define target variables\n",
    "target_primary_fuel = df['primary_fuel']\n",
    "target_capacity_mw = df['capacity_mw']\n"
   ]
  },
  {
   "cell_type": "code",
   "execution_count": 6,
   "id": "d9136d7d",
   "metadata": {},
   "outputs": [],
   "source": [
    "# Example: Handling missing values by imputing with median\n",
    "df['capacity_mw'].fillna(df['capacity_mw'].median(), inplace=True)\n"
   ]
  },
  {
   "cell_type": "code",
   "execution_count": 7,
   "id": "291b3ac9",
   "metadata": {},
   "outputs": [],
   "source": [
    "# Example: Remove rows with missing primary fuel information\n",
    "df.dropna(subset=['primary_fuel'], inplace=True)\n"
   ]
  },
  {
   "cell_type": "code",
   "execution_count": 8,
   "id": "8184a298",
   "metadata": {},
   "outputs": [],
   "source": [
    "# Example: Create a new feature 'age' based on commissioning year\n",
    "current_year = 2024  # Update with current year\n",
    "df['age'] = current_year - df['commissioning_year']\n"
   ]
  },
  {
   "cell_type": "code",
   "execution_count": 9,
   "id": "7fa28926",
   "metadata": {},
   "outputs": [],
   "source": [
    "# Example: Selecting relevant features\n",
    "features = ['country', 'capacity_mw', 'primary_fuel', 'commissioning_year', 'owner']\n",
    "df = df[features]\n"
   ]
  },
  {
   "cell_type": "code",
   "execution_count": 10,
   "id": "c3d0dc92",
   "metadata": {},
   "outputs": [],
   "source": [
    "# Example: One-hot encoding categorical variables\n",
    "df = pd.get_dummies(df, columns=['country', 'primary_fuel'])\n"
   ]
  },
  {
   "cell_type": "code",
   "execution_count": 12,
   "id": "67b23781",
   "metadata": {},
   "outputs": [
    {
     "name": "stdout",
     "output_type": "stream",
     "text": [
      "Index(['capacity_mw', 'commissioning_year', 'owner', 'country_AUS',\n",
      "       'country_IND', 'country_USA', 'primary_fuel_Biomass',\n",
      "       'primary_fuel_Coal', 'primary_fuel_Cogeneration', 'primary_fuel_Gas',\n",
      "       'primary_fuel_Geothermal', 'primary_fuel_Hydro', 'primary_fuel_Nuclear',\n",
      "       'primary_fuel_Oil', 'primary_fuel_Other', 'primary_fuel_Petcoke',\n",
      "       'primary_fuel_Solar', 'primary_fuel_Storage', 'primary_fuel_Waste',\n",
      "       'primary_fuel_Wind'],\n",
      "      dtype='object')\n"
     ]
    }
   ],
   "source": [
    "print(df.columns)\n"
   ]
  },
  {
   "cell_type": "code",
   "execution_count": 13,
   "id": "463aad9d",
   "metadata": {},
   "outputs": [],
   "source": [
    "# Example: Load and concatenate data again (if needed)\n",
    "df_usa = pd.read_csv('C:\\\\Users\\\\shahr\\\\Downloads\\\\database_USA.csv')\n",
    "df_india = pd.read_csv('C:\\\\Users\\\\shahr\\\\Downloads\\\\database_IND (1).csv')\n",
    "df_aus = pd.read_csv('C:\\\\Users\\\\shahr\\\\Downloads\\\\database_AUS.csv')\n",
    "\n",
    "df = pd.concat([df_usa, df_india, df_aus], ignore_index=True)\n"
   ]
  },
  {
   "cell_type": "code",
   "execution_count": 14,
   "id": "d7606a51",
   "metadata": {},
   "outputs": [],
   "source": [
    "# Example: One-hot encoding categorical variables\n",
    "df_encoded = pd.get_dummies(df, columns=['country', 'owner'])\n"
   ]
  },
  {
   "cell_type": "code",
   "execution_count": 15,
   "id": "f641a5f0",
   "metadata": {},
   "outputs": [],
   "source": [
    "from sklearn.model_selection import train_test_split\n",
    "\n",
    "X = df_encoded.drop(['primary_fuel', 'capacity_mw'], axis=1)  # Features\n",
    "y_primary_fuel = df_encoded['primary_fuel']  # Target: Primary Fuel\n",
    "y_capacity_mw = df_encoded['capacity_mw']  # Target: Capacity (MW)\n",
    "\n",
    "# Split data for Primary Fuel prediction\n",
    "X_train_pf, X_test_pf, y_train_pf, y_test_pf = train_test_split(X, y_primary_fuel, test_size=0.2, random_state=42)\n",
    "\n",
    "# Split data for Capacity (MW) prediction\n",
    "X_train_cmw, X_test_cmw, y_train_cmw, y_test_cmw = train_test_split(X, y_capacity_mw, test_size=0.2, random_state=42)\n"
   ]
  },
  {
   "cell_type": "code",
   "execution_count": 19,
   "id": "bed71de3",
   "metadata": {},
   "outputs": [],
   "source": [
    "from sklearn.model_selection import train_test_split\n",
    "\n",
    "# Assuming df_encoded is your DataFrame with encoded features and targets\n",
    "X = df_encoded.drop(['primary_fuel', 'capacity_mw'], axis=1)  # Features\n",
    "y_primary_fuel = df_encoded['primary_fuel']  # Target: Primary Fuel\n",
    "y_capacity_mw = df_encoded['capacity_mw']  # Target: Capacity (MW)\n",
    "\n",
    "# Split data for Primary Fuel prediction\n",
    "X_train_pf, X_test_pf, y_train_pf, y_test_pf = train_test_split(X, y_primary_fuel, test_size=0.2, random_state=42)\n",
    "\n",
    "# Split data for Capacity (MW) prediction\n",
    "X_train_cmw, X_test_cmw, y_train_cmw, y_test_cmw = train_test_split(X, y_capacity_mw, test_size=0.2, random_state=42)\n"
   ]
  },
  {
   "cell_type": "code",
   "execution_count": 22,
   "id": "bbcfbcd2",
   "metadata": {},
   "outputs": [
    {
     "name": "stdout",
     "output_type": "stream",
     "text": [
      "Index(['country_long', 'name', 'gppd_idnr', 'latitude', 'longitude',\n",
      "       'other_fuel1', 'other_fuel2', 'other_fuel3', 'commissioning_year',\n",
      "       'source',\n",
      "       ...\n",
      "       'owner_Zamil New Delhi Infrastructure Private Limited',\n",
      "       'owner_Zapco Energy Tactics Corp', 'owner_Zeeland Farm Services',\n",
      "       'owner_Zero Waste Energy Development Company LLC',\n",
      "       'owner_Zion Energy LLC', 'owner_Zotos International',\n",
      "       'owner_Zumbro Garden LLC', 'owner_Zumbro Solar LLC', 'owner_esVolta LP',\n",
      "       'owner_iEnergy Wind Farms'],\n",
      "      dtype='object', length=5903)\n",
      "Index(['country_long', 'name', 'gppd_idnr', 'latitude', 'longitude',\n",
      "       'other_fuel1', 'other_fuel2', 'other_fuel3', 'commissioning_year',\n",
      "       'source',\n",
      "       ...\n",
      "       'owner_Zamil New Delhi Infrastructure Private Limited',\n",
      "       'owner_Zapco Energy Tactics Corp', 'owner_Zeeland Farm Services',\n",
      "       'owner_Zero Waste Energy Development Company LLC',\n",
      "       'owner_Zion Energy LLC', 'owner_Zotos International',\n",
      "       'owner_Zumbro Garden LLC', 'owner_Zumbro Solar LLC', 'owner_esVolta LP',\n",
      "       'owner_iEnergy Wind Farms'],\n",
      "      dtype='object', length=5903)\n",
      "Index(['country_long', 'name', 'gppd_idnr', 'latitude', 'longitude',\n",
      "       'other_fuel1', 'other_fuel2', 'other_fuel3', 'commissioning_year',\n",
      "       'source',\n",
      "       ...\n",
      "       'owner_Zamil New Delhi Infrastructure Private Limited',\n",
      "       'owner_Zapco Energy Tactics Corp', 'owner_Zeeland Farm Services',\n",
      "       'owner_Zero Waste Energy Development Company LLC',\n",
      "       'owner_Zion Energy LLC', 'owner_Zotos International',\n",
      "       'owner_Zumbro Garden LLC', 'owner_Zumbro Solar LLC', 'owner_esVolta LP',\n",
      "       'owner_iEnergy Wind Farms'],\n",
      "      dtype='object', length=5903)\n",
      "Index(['country_long', 'name', 'gppd_idnr', 'latitude', 'longitude',\n",
      "       'other_fuel1', 'other_fuel2', 'other_fuel3', 'commissioning_year',\n",
      "       'source',\n",
      "       ...\n",
      "       'owner_Zamil New Delhi Infrastructure Private Limited',\n",
      "       'owner_Zapco Energy Tactics Corp', 'owner_Zeeland Farm Services',\n",
      "       'owner_Zero Waste Energy Development Company LLC',\n",
      "       'owner_Zion Energy LLC', 'owner_Zotos International',\n",
      "       'owner_Zumbro Garden LLC', 'owner_Zumbro Solar LLC', 'owner_esVolta LP',\n",
      "       'owner_iEnergy Wind Farms'],\n",
      "      dtype='object', length=5903)\n"
     ]
    }
   ],
   "source": [
    "print(X_train_pf.columns)\n",
    "print(X_test_pf.columns)\n",
    "print(X_train_cmw.columns)\n",
    "print(X_test_cmw.columns)\n"
   ]
  },
  {
   "cell_type": "code",
   "execution_count": 23,
   "id": "add6f036",
   "metadata": {},
   "outputs": [],
   "source": [
    "X_train_encoded_pf = X_train_pf.copy()\n",
    "X_test_encoded_pf = X_test_pf.copy()\n",
    "X_train_encoded_cmw = X_train_cmw.copy()\n",
    "X_test_encoded_cmw = X_test_cmw.copy()\n"
   ]
  },
  {
   "cell_type": "code",
   "execution_count": null,
   "id": "5598e24c",
   "metadata": {},
   "outputs": [],
   "source": []
  }
 ],
 "metadata": {
  "kernelspec": {
   "display_name": "Python 3 (ipykernel)",
   "language": "python",
   "name": "python3"
  },
  "language_info": {
   "codemirror_mode": {
    "name": "ipython",
    "version": 3
   },
   "file_extension": ".py",
   "mimetype": "text/x-python",
   "name": "python",
   "nbconvert_exporter": "python",
   "pygments_lexer": "ipython3",
   "version": "3.10.9"
  }
 },
 "nbformat": 4,
 "nbformat_minor": 5
}
